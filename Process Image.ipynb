{
 "cells": [
  {
   "cell_type": "code",
   "execution_count": 103,
   "metadata": {},
   "outputs": [],
   "source": [
    "import base64\n",
    "from imageio import imread\n",
    "import numpy as np\n",
    "import io\n",
    "import matplotlib.pyplot as plt"
   ]
  },
  {
   "cell_type": "code",
   "execution_count": 104,
   "metadata": {},
   "outputs": [],
   "source": [
    "def convert_to_array(img_str):\n",
    "    return imread(io.BytesIO(base64.b64decode(img_str)))"
   ]
  },
  {
   "cell_type": "code",
   "execution_count": 105,
   "metadata": {},
   "outputs": [],
   "source": [
    "def rgb2gray(rgb):\n",
    "    return np.dot(rgb[...,:3], [0.299, 0.587, 0.114]).reshape(rgb.shape[0], rgb.shape[1], 1)"
   ]
  },
  {
   "cell_type": "code",
   "execution_count": 168,
   "metadata": {},
   "outputs": [],
   "source": [
    "img_str = \"data:image/png;base64,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\""
   ]
  },
  {
   "cell_type": "code",
   "execution_count": 169,
   "metadata": {},
   "outputs": [
    {
     "data": {
      "text/plain": [
       "'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'"
      ]
     },
     "execution_count": 169,
     "metadata": {},
     "output_type": "execute_result"
    }
   ],
   "source": [
    "img_str = img_str[22:len(img_str)]\n",
    "img_str"
   ]
  },
  {
   "cell_type": "code",
   "execution_count": 170,
   "metadata": {},
   "outputs": [],
   "source": [
    "arr = convert_to_array(img_str)"
   ]
  },
  {
   "cell_type": "code",
   "execution_count": 171,
   "metadata": {},
   "outputs": [
    {
     "data": {
      "text/plain": [
       "(48, 48, 4)"
      ]
     },
     "execution_count": 171,
     "metadata": {},
     "output_type": "execute_result"
    }
   ],
   "source": [
    "arr.shape"
   ]
  },
  {
   "cell_type": "code",
   "execution_count": 172,
   "metadata": {},
   "outputs": [],
   "source": [
    "arr = np.array(arr)\n",
    "arr = rgb2gray(arr)\n",
    "arr = arr.reshape(1,48,48,1)"
   ]
  },
  {
   "cell_type": "code",
   "execution_count": 173,
   "metadata": {},
   "outputs": [
    {
     "data": {
      "text/plain": [
       "<matplotlib.image.AxesImage at 0x7f81aad7f898>"
      ]
     },
     "execution_count": 173,
     "metadata": {},
     "output_type": "execute_result"
    },
    {
     "data": {
      "image/png": "[encoded data removed]",
      "text/plain": [
       "<matplotlib.figure.Figure at 0x7f81aad632b0>"
      ]
     },
     "metadata": {},
     "output_type": "display_data"
    }
   ],
   "source": [
    "plt.figure()\n",
    "plt.imshow(arr[0].reshape(arr.shape[1], arr.shape[2]), cmap='gray')"
   ]
  },
  {
   "cell_type": "code",
   "execution_count": 68,
   "metadata": {},
   "outputs": [],
   "source": [
    "from keras.models import load_model"
   ]
  },
  {
   "cell_type": "code",
   "execution_count": 146,
   "metadata": {},
   "outputs": [],
   "source": [
    "model = load_model('model.h5')"
   ]
  },
  {
   "cell_type": "code",
   "execution_count": 174,
   "metadata": {},
   "outputs": [],
   "source": [
    "y = model.predict(arr)"
   ]
  },
  {
   "cell_type": "code",
   "execution_count": 175,
   "metadata": {},
   "outputs": [
    {
     "data": {
      "text/plain": [
       "4"
      ]
     },
     "execution_count": 175,
     "metadata": {},
     "output_type": "execute_result"
    }
   ],
   "source": [
    "np.argmax(y)"
   ]
  },
  {
   "cell_type": "code",
   "execution_count": null,
   "metadata": {},
   "outputs": [],
   "source": []
  }
 ],
 "metadata": {
  "kernelspec": {
   "display_name": "Python 3",
   "language": "python",
   "name": "python3"
  },
  "language_info": {
   "codemirror_mode": {
    "name": "ipython",
    "version": 3
   },
   "file_extension": ".py",
   "mimetype": "text/x-python",
   "name": "python",
   "nbconvert_exporter": "python",
   "pygments_lexer": "ipython3",
   "version": "3.5.2"
  }
 },
 "nbformat": 4,
 "nbformat_minor": 2
}
